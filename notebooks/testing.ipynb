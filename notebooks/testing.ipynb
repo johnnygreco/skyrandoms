{
 "cells": [
  {
   "cell_type": "code",
   "execution_count": 1,
   "metadata": {
    "collapsed": true
   },
   "outputs": [],
   "source": [
    "%matplotlib inline\n",
    "import numpy as np\n",
    "import skyrandoms \n",
    "import matplotlib.pyplot as plt\n",
    "from skyrandoms import SkyRandoms\n",
    "import pandas as pd"
   ]
  },
  {
   "cell_type": "code",
   "execution_count": 2,
   "metadata": {
    "collapsed": true
   },
   "outputs": [],
   "source": [
    "db = skyrandoms.SkyRandomsDatabase('../local_data/skyrandoms.db')"
   ]
  },
  {
   "cell_type": "code",
   "execution_count": 23,
   "metadata": {
    "collapsed": false
   },
   "outputs": [
    {
     "name": "stdout",
     "output_type": "stream",
     "text": [
      "CPU times: user 4min 6s, sys: 1min 21s, total: 5min 28s\n",
      "Wall time: 47min 55s\n"
     ]
    }
   ],
   "source": [
    "#%%time\n",
    "#db.add_random_batch(npoints=10000000, max_chunk_size=1000000)"
   ]
  },
  {
   "cell_type": "code",
   "execution_count": 3,
   "metadata": {
    "collapsed": false
   },
   "outputs": [],
   "source": [
    "df = db.query_region([330, 331], [8, 10])"
   ]
  },
  {
   "cell_type": "code",
   "execution_count": 4,
   "metadata": {
    "collapsed": false
   },
   "outputs": [
    {
     "data": {
      "text/html": [
       "<div>\n",
       "<table border=\"1\" class=\"dataframe\">\n",
       "  <thead>\n",
       "    <tr style=\"text-align: right;\">\n",
       "      <th></th>\n",
       "      <th>id</th>\n",
       "      <th>ra</th>\n",
       "      <th>dec</th>\n",
       "      <th>detected</th>\n",
       "    </tr>\n",
       "  </thead>\n",
       "  <tbody>\n",
       "    <tr>\n",
       "      <th>count</th>\n",
       "      <td>5.310000e+02</td>\n",
       "      <td>531.000000</td>\n",
       "      <td>531.000000</td>\n",
       "      <td>531.0</td>\n",
       "    </tr>\n",
       "    <tr>\n",
       "      <th>mean</th>\n",
       "      <td>5.486098e+06</td>\n",
       "      <td>330.503356</td>\n",
       "      <td>8.997347</td>\n",
       "      <td>0.0</td>\n",
       "    </tr>\n",
       "    <tr>\n",
       "      <th>std</th>\n",
       "      <td>3.196000e+06</td>\n",
       "      <td>0.296582</td>\n",
       "      <td>0.572481</td>\n",
       "      <td>0.0</td>\n",
       "    </tr>\n",
       "    <tr>\n",
       "      <th>min</th>\n",
       "      <td>2.660000e+02</td>\n",
       "      <td>330.000157</td>\n",
       "      <td>8.004569</td>\n",
       "      <td>0.0</td>\n",
       "    </tr>\n",
       "    <tr>\n",
       "      <th>25%</th>\n",
       "      <td>2.845854e+06</td>\n",
       "      <td>330.241268</td>\n",
       "      <td>8.501082</td>\n",
       "      <td>0.0</td>\n",
       "    </tr>\n",
       "    <tr>\n",
       "      <th>50%</th>\n",
       "      <td>5.288804e+06</td>\n",
       "      <td>330.505355</td>\n",
       "      <td>8.961244</td>\n",
       "      <td>0.0</td>\n",
       "    </tr>\n",
       "    <tr>\n",
       "      <th>75%</th>\n",
       "      <td>8.399408e+06</td>\n",
       "      <td>330.746581</td>\n",
       "      <td>9.499735</td>\n",
       "      <td>0.0</td>\n",
       "    </tr>\n",
       "    <tr>\n",
       "      <th>max</th>\n",
       "      <td>1.098673e+07</td>\n",
       "      <td>330.998555</td>\n",
       "      <td>9.998193</td>\n",
       "      <td>0.0</td>\n",
       "    </tr>\n",
       "  </tbody>\n",
       "</table>\n",
       "</div>"
      ],
      "text/plain": [
       "                 id          ra         dec  detected\n",
       "count  5.310000e+02  531.000000  531.000000     531.0\n",
       "mean   5.486098e+06  330.503356    8.997347       0.0\n",
       "std    3.196000e+06    0.296582    0.572481       0.0\n",
       "min    2.660000e+02  330.000157    8.004569       0.0\n",
       "25%    2.845854e+06  330.241268    8.501082       0.0\n",
       "50%    5.288804e+06  330.505355    8.961244       0.0\n",
       "75%    8.399408e+06  330.746581    9.499735       0.0\n",
       "max    1.098673e+07  330.998555    9.998193       0.0"
      ]
     },
     "execution_count": 4,
     "metadata": {},
     "output_type": "execute_result"
    }
   ],
   "source": [
    "df.describe()"
   ]
  },
  {
   "cell_type": "code",
   "execution_count": 13,
   "metadata": {
    "collapsed": false
   },
   "outputs": [
    {
     "data": {
      "text/plain": [
       "[<matplotlib.lines.Line2D at 0x10a902b90>]"
      ]
     },
     "execution_count": 13,
     "metadata": {},
     "output_type": "execute_result"
    },
    {
     "data": {
      "image/png": "[encoded data removed]",
      "text/plain": [
       "<matplotlib.figure.Figure at 0x10aaa2d90>"
      ]
     },
     "metadata": {},
     "output_type": "display_data"
    }
   ],
   "source": [
    "plt.plot(df['ra'], df['dec'], '.')"
   ]
  },
  {
   "cell_type": "code",
   "execution_count": 26,
   "metadata": {
    "collapsed": true
   },
   "outputs": [],
   "source": [
    "def _get_chunks(chunk_size, total_size):\n",
    "    remainder = int(total_size % chunk_size)\n",
    "    num_chunks = int(total_size // chunk_size)\n",
    "    return num_chunks, remainder"
   ]
  },
  {
   "cell_type": "code",
   "execution_count": 34,
   "metadata": {
    "collapsed": false
   },
   "outputs": [
    {
     "data": {
      "text/plain": [
       "(3885631.8240195392, (3, 885631))"
      ]
     },
     "execution_count": 34,
     "metadata": {},
     "output_type": "execute_result"
    }
   ],
   "source": [
    "newdb = skyrandoms.SkyRandomsDatabase('../local_data/newskyrandoms.db', \n",
    "                                      ra_lim=hsc_fps['r6'].ra_lim, dec_lim=hsc_fps['r6'].dec_lim,\n",
    "                                      overwrite=True)\n",
    "newdb.area*10/(1/60.**2), _get_chunks(1e6, newdb.area*10/(1/60.**2))"
   ]
  }
 ],
 "metadata": {
  "kernelspec": {
   "display_name": "Python [conda env:lsst]",
   "language": "python",
   "name": "conda-env-lsst-py"
  },
  "language_info": {
   "codemirror_mode": {
    "name": "ipython",
    "version": 2
   },
   "file_extension": ".py",
   "mimetype": "text/x-python",
   "name": "python",
   "nbconvert_exporter": "python",
   "pygments_lexer": "ipython2",
   "version": "2.7.12"
  }
 },
 "nbformat": 4,
 "nbformat_minor": 2
}
